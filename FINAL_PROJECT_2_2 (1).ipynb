{
 "cells": [
  {
   "cell_type": "markdown",
   "id": "4c5c262b",
   "metadata": {
    "deletable": false,
    "editable": false,
    "id": "c81daeeb"
   },
   "source": [
    "# Исследование надежности заемщиков\n"
   ]
  },
  {
   "cell_type": "markdown",
   "id": "71d4591e",
   "metadata": {
    "deletable": false,
    "editable": false,
    "id": "827c20bf"
   },
   "source": [
    "Во второй части проекта вы выполните шаги 3 и 4. Их вручную проверит ревьюер.\n",
    "Чтобы вам не пришлось писать код заново для шагов 1 и 2, мы добавили авторские решения в ячейки с кодом. \n",
    "\n"
   ]
  },
  {
   "cell_type": "markdown",
   "id": "54f54fee",
   "metadata": {
    "deletable": false,
    "editable": false,
    "id": "744d7639"
   },
   "source": [
    "## Откройте таблицу и изучите общую информацию о данных"
   ]
  },
  {
   "cell_type": "markdown",
   "id": "b0c03f11",
   "metadata": {
    "deletable": false,
    "editable": false,
    "id": "e7a14c31"
   },
   "source": [
    "**Задание 1. Импортируйте библиотеку pandas. Считайте данные из csv-файла в датафрейм и сохраните в переменную `data`. Путь к файлу:**\n",
    "\n",
    "`/datasets/data.csv`"
   ]
  },
  {
   "cell_type": "code",
   "execution_count": 1,
   "id": "04dec020",
   "metadata": {
    "deletable": false,
    "id": "7bcf75c9"
   },
   "outputs": [],
   "source": [
    "import pandas as pd\n",
    "\n",
    "try:\n",
    "    data = pd.read_csv('/datasets/data.csv')\n",
    "except:\n",
    "    data = pd.read_csv('https://code.s3.yandex.net/datasets/data.csv')"
   ]
  },
  {
   "cell_type": "markdown",
   "id": "a18a4d86",
   "metadata": {
    "deletable": false,
    "editable": false,
    "id": "b8038fe3"
   },
   "source": [
    "**Задание 2. Выведите первые 20 строчек датафрейма `data` на экран.**"
   ]
  },
  {
   "cell_type": "code",
   "execution_count": 2,
   "id": "b6dc5e1c",
   "metadata": {
    "deletable": false,
    "id": "2a7cab99",
    "outputId": "1a8f3ef2-d323-4ec2-ddf7-89670b5944c4"
   },
   "outputs": [
    {
     "data": {
      "text/html": [
       "<div>\n",
       "<style scoped>\n",
       "    .dataframe tbody tr th:only-of-type {\n",
       "        vertical-align: middle;\n",
       "    }\n",
       "\n",
       "    .dataframe tbody tr th {\n",
       "        vertical-align: top;\n",
       "    }\n",
       "\n",
       "    .dataframe thead th {\n",
       "        text-align: right;\n",
       "    }\n",
       "</style>\n",
       "<table border=\"1\" class=\"dataframe\">\n",
       "  <thead>\n",
       "    <tr style=\"text-align: right;\">\n",
       "      <th></th>\n",
       "      <th>children</th>\n",
       "      <th>days_employed</th>\n",
       "      <th>dob_years</th>\n",
       "      <th>education</th>\n",
       "      <th>education_id</th>\n",
       "      <th>family_status</th>\n",
       "      <th>family_status_id</th>\n",
       "      <th>gender</th>\n",
       "      <th>income_type</th>\n",
       "      <th>debt</th>\n",
       "      <th>total_income</th>\n",
       "      <th>purpose</th>\n",
       "    </tr>\n",
       "  </thead>\n",
       "  <tbody>\n",
       "    <tr>\n",
       "      <th>0</th>\n",
       "      <td>1</td>\n",
       "      <td>-8437.673028</td>\n",
       "      <td>42</td>\n",
       "      <td>высшее</td>\n",
       "      <td>0</td>\n",
       "      <td>женат / замужем</td>\n",
       "      <td>0</td>\n",
       "      <td>F</td>\n",
       "      <td>сотрудник</td>\n",
       "      <td>0</td>\n",
       "      <td>253875.639453</td>\n",
       "      <td>покупка жилья</td>\n",
       "    </tr>\n",
       "    <tr>\n",
       "      <th>1</th>\n",
       "      <td>1</td>\n",
       "      <td>-4024.803754</td>\n",
       "      <td>36</td>\n",
       "      <td>среднее</td>\n",
       "      <td>1</td>\n",
       "      <td>женат / замужем</td>\n",
       "      <td>0</td>\n",
       "      <td>F</td>\n",
       "      <td>сотрудник</td>\n",
       "      <td>0</td>\n",
       "      <td>112080.014102</td>\n",
       "      <td>приобретение автомобиля</td>\n",
       "    </tr>\n",
       "    <tr>\n",
       "      <th>2</th>\n",
       "      <td>0</td>\n",
       "      <td>-5623.422610</td>\n",
       "      <td>33</td>\n",
       "      <td>Среднее</td>\n",
       "      <td>1</td>\n",
       "      <td>женат / замужем</td>\n",
       "      <td>0</td>\n",
       "      <td>M</td>\n",
       "      <td>сотрудник</td>\n",
       "      <td>0</td>\n",
       "      <td>145885.952297</td>\n",
       "      <td>покупка жилья</td>\n",
       "    </tr>\n",
       "    <tr>\n",
       "      <th>3</th>\n",
       "      <td>3</td>\n",
       "      <td>-4124.747207</td>\n",
       "      <td>32</td>\n",
       "      <td>среднее</td>\n",
       "      <td>1</td>\n",
       "      <td>женат / замужем</td>\n",
       "      <td>0</td>\n",
       "      <td>M</td>\n",
       "      <td>сотрудник</td>\n",
       "      <td>0</td>\n",
       "      <td>267628.550329</td>\n",
       "      <td>дополнительное образование</td>\n",
       "    </tr>\n",
       "    <tr>\n",
       "      <th>4</th>\n",
       "      <td>0</td>\n",
       "      <td>340266.072047</td>\n",
       "      <td>53</td>\n",
       "      <td>среднее</td>\n",
       "      <td>1</td>\n",
       "      <td>гражданский брак</td>\n",
       "      <td>1</td>\n",
       "      <td>F</td>\n",
       "      <td>пенсионер</td>\n",
       "      <td>0</td>\n",
       "      <td>158616.077870</td>\n",
       "      <td>сыграть свадьбу</td>\n",
       "    </tr>\n",
       "    <tr>\n",
       "      <th>5</th>\n",
       "      <td>0</td>\n",
       "      <td>-926.185831</td>\n",
       "      <td>27</td>\n",
       "      <td>высшее</td>\n",
       "      <td>0</td>\n",
       "      <td>гражданский брак</td>\n",
       "      <td>1</td>\n",
       "      <td>M</td>\n",
       "      <td>компаньон</td>\n",
       "      <td>0</td>\n",
       "      <td>255763.565419</td>\n",
       "      <td>покупка жилья</td>\n",
       "    </tr>\n",
       "    <tr>\n",
       "      <th>6</th>\n",
       "      <td>0</td>\n",
       "      <td>-2879.202052</td>\n",
       "      <td>43</td>\n",
       "      <td>высшее</td>\n",
       "      <td>0</td>\n",
       "      <td>женат / замужем</td>\n",
       "      <td>0</td>\n",
       "      <td>F</td>\n",
       "      <td>компаньон</td>\n",
       "      <td>0</td>\n",
       "      <td>240525.971920</td>\n",
       "      <td>операции с жильем</td>\n",
       "    </tr>\n",
       "    <tr>\n",
       "      <th>7</th>\n",
       "      <td>0</td>\n",
       "      <td>-152.779569</td>\n",
       "      <td>50</td>\n",
       "      <td>СРЕДНЕЕ</td>\n",
       "      <td>1</td>\n",
       "      <td>женат / замужем</td>\n",
       "      <td>0</td>\n",
       "      <td>M</td>\n",
       "      <td>сотрудник</td>\n",
       "      <td>0</td>\n",
       "      <td>135823.934197</td>\n",
       "      <td>образование</td>\n",
       "    </tr>\n",
       "    <tr>\n",
       "      <th>8</th>\n",
       "      <td>2</td>\n",
       "      <td>-6929.865299</td>\n",
       "      <td>35</td>\n",
       "      <td>ВЫСШЕЕ</td>\n",
       "      <td>0</td>\n",
       "      <td>гражданский брак</td>\n",
       "      <td>1</td>\n",
       "      <td>F</td>\n",
       "      <td>сотрудник</td>\n",
       "      <td>0</td>\n",
       "      <td>95856.832424</td>\n",
       "      <td>на проведение свадьбы</td>\n",
       "    </tr>\n",
       "    <tr>\n",
       "      <th>9</th>\n",
       "      <td>0</td>\n",
       "      <td>-2188.756445</td>\n",
       "      <td>41</td>\n",
       "      <td>среднее</td>\n",
       "      <td>1</td>\n",
       "      <td>женат / замужем</td>\n",
       "      <td>0</td>\n",
       "      <td>M</td>\n",
       "      <td>сотрудник</td>\n",
       "      <td>0</td>\n",
       "      <td>144425.938277</td>\n",
       "      <td>покупка жилья для семьи</td>\n",
       "    </tr>\n",
       "    <tr>\n",
       "      <th>10</th>\n",
       "      <td>2</td>\n",
       "      <td>-4171.483647</td>\n",
       "      <td>36</td>\n",
       "      <td>высшее</td>\n",
       "      <td>0</td>\n",
       "      <td>женат / замужем</td>\n",
       "      <td>0</td>\n",
       "      <td>M</td>\n",
       "      <td>компаньон</td>\n",
       "      <td>0</td>\n",
       "      <td>113943.491460</td>\n",
       "      <td>покупка недвижимости</td>\n",
       "    </tr>\n",
       "    <tr>\n",
       "      <th>11</th>\n",
       "      <td>0</td>\n",
       "      <td>-792.701887</td>\n",
       "      <td>40</td>\n",
       "      <td>среднее</td>\n",
       "      <td>1</td>\n",
       "      <td>женат / замужем</td>\n",
       "      <td>0</td>\n",
       "      <td>F</td>\n",
       "      <td>сотрудник</td>\n",
       "      <td>0</td>\n",
       "      <td>77069.234271</td>\n",
       "      <td>покупка коммерческой недвижимости</td>\n",
       "    </tr>\n",
       "    <tr>\n",
       "      <th>12</th>\n",
       "      <td>0</td>\n",
       "      <td>NaN</td>\n",
       "      <td>65</td>\n",
       "      <td>среднее</td>\n",
       "      <td>1</td>\n",
       "      <td>гражданский брак</td>\n",
       "      <td>1</td>\n",
       "      <td>M</td>\n",
       "      <td>пенсионер</td>\n",
       "      <td>0</td>\n",
       "      <td>NaN</td>\n",
       "      <td>сыграть свадьбу</td>\n",
       "    </tr>\n",
       "    <tr>\n",
       "      <th>13</th>\n",
       "      <td>0</td>\n",
       "      <td>-1846.641941</td>\n",
       "      <td>54</td>\n",
       "      <td>неоконченное высшее</td>\n",
       "      <td>2</td>\n",
       "      <td>женат / замужем</td>\n",
       "      <td>0</td>\n",
       "      <td>F</td>\n",
       "      <td>сотрудник</td>\n",
       "      <td>0</td>\n",
       "      <td>130458.228857</td>\n",
       "      <td>приобретение автомобиля</td>\n",
       "    </tr>\n",
       "    <tr>\n",
       "      <th>14</th>\n",
       "      <td>0</td>\n",
       "      <td>-1844.956182</td>\n",
       "      <td>56</td>\n",
       "      <td>высшее</td>\n",
       "      <td>0</td>\n",
       "      <td>гражданский брак</td>\n",
       "      <td>1</td>\n",
       "      <td>F</td>\n",
       "      <td>компаньон</td>\n",
       "      <td>1</td>\n",
       "      <td>165127.911772</td>\n",
       "      <td>покупка жилой недвижимости</td>\n",
       "    </tr>\n",
       "    <tr>\n",
       "      <th>15</th>\n",
       "      <td>1</td>\n",
       "      <td>-972.364419</td>\n",
       "      <td>26</td>\n",
       "      <td>среднее</td>\n",
       "      <td>1</td>\n",
       "      <td>женат / замужем</td>\n",
       "      <td>0</td>\n",
       "      <td>F</td>\n",
       "      <td>сотрудник</td>\n",
       "      <td>0</td>\n",
       "      <td>116820.904450</td>\n",
       "      <td>строительство собственной недвижимости</td>\n",
       "    </tr>\n",
       "    <tr>\n",
       "      <th>16</th>\n",
       "      <td>0</td>\n",
       "      <td>-1719.934226</td>\n",
       "      <td>35</td>\n",
       "      <td>среднее</td>\n",
       "      <td>1</td>\n",
       "      <td>женат / замужем</td>\n",
       "      <td>0</td>\n",
       "      <td>F</td>\n",
       "      <td>сотрудник</td>\n",
       "      <td>0</td>\n",
       "      <td>289202.704229</td>\n",
       "      <td>недвижимость</td>\n",
       "    </tr>\n",
       "    <tr>\n",
       "      <th>17</th>\n",
       "      <td>0</td>\n",
       "      <td>-2369.999720</td>\n",
       "      <td>33</td>\n",
       "      <td>высшее</td>\n",
       "      <td>0</td>\n",
       "      <td>гражданский брак</td>\n",
       "      <td>1</td>\n",
       "      <td>M</td>\n",
       "      <td>сотрудник</td>\n",
       "      <td>0</td>\n",
       "      <td>90410.586745</td>\n",
       "      <td>строительство недвижимости</td>\n",
       "    </tr>\n",
       "    <tr>\n",
       "      <th>18</th>\n",
       "      <td>0</td>\n",
       "      <td>400281.136913</td>\n",
       "      <td>53</td>\n",
       "      <td>среднее</td>\n",
       "      <td>1</td>\n",
       "      <td>вдовец / вдова</td>\n",
       "      <td>2</td>\n",
       "      <td>F</td>\n",
       "      <td>пенсионер</td>\n",
       "      <td>0</td>\n",
       "      <td>56823.777243</td>\n",
       "      <td>на покупку подержанного автомобиля</td>\n",
       "    </tr>\n",
       "    <tr>\n",
       "      <th>19</th>\n",
       "      <td>0</td>\n",
       "      <td>-10038.818549</td>\n",
       "      <td>48</td>\n",
       "      <td>СРЕДНЕЕ</td>\n",
       "      <td>1</td>\n",
       "      <td>в разводе</td>\n",
       "      <td>3</td>\n",
       "      <td>F</td>\n",
       "      <td>сотрудник</td>\n",
       "      <td>0</td>\n",
       "      <td>242831.107982</td>\n",
       "      <td>на покупку своего автомобиля</td>\n",
       "    </tr>\n",
       "  </tbody>\n",
       "</table>\n",
       "</div>"
      ],
      "text/plain": [
       "    children  days_employed  dob_years            education  education_id  \\\n",
       "0          1   -8437.673028         42               высшее             0   \n",
       "1          1   -4024.803754         36              среднее             1   \n",
       "2          0   -5623.422610         33              Среднее             1   \n",
       "3          3   -4124.747207         32              среднее             1   \n",
       "4          0  340266.072047         53              среднее             1   \n",
       "5          0    -926.185831         27               высшее             0   \n",
       "6          0   -2879.202052         43               высшее             0   \n",
       "7          0    -152.779569         50              СРЕДНЕЕ             1   \n",
       "8          2   -6929.865299         35               ВЫСШЕЕ             0   \n",
       "9          0   -2188.756445         41              среднее             1   \n",
       "10         2   -4171.483647         36               высшее             0   \n",
       "11         0    -792.701887         40              среднее             1   \n",
       "12         0            NaN         65              среднее             1   \n",
       "13         0   -1846.641941         54  неоконченное высшее             2   \n",
       "14         0   -1844.956182         56               высшее             0   \n",
       "15         1    -972.364419         26              среднее             1   \n",
       "16         0   -1719.934226         35              среднее             1   \n",
       "17         0   -2369.999720         33               высшее             0   \n",
       "18         0  400281.136913         53              среднее             1   \n",
       "19         0  -10038.818549         48              СРЕДНЕЕ             1   \n",
       "\n",
       "       family_status  family_status_id gender income_type  debt  \\\n",
       "0    женат / замужем                 0      F   сотрудник     0   \n",
       "1    женат / замужем                 0      F   сотрудник     0   \n",
       "2    женат / замужем                 0      M   сотрудник     0   \n",
       "3    женат / замужем                 0      M   сотрудник     0   \n",
       "4   гражданский брак                 1      F   пенсионер     0   \n",
       "5   гражданский брак                 1      M   компаньон     0   \n",
       "6    женат / замужем                 0      F   компаньон     0   \n",
       "7    женат / замужем                 0      M   сотрудник     0   \n",
       "8   гражданский брак                 1      F   сотрудник     0   \n",
       "9    женат / замужем                 0      M   сотрудник     0   \n",
       "10   женат / замужем                 0      M   компаньон     0   \n",
       "11   женат / замужем                 0      F   сотрудник     0   \n",
       "12  гражданский брак                 1      M   пенсионер     0   \n",
       "13   женат / замужем                 0      F   сотрудник     0   \n",
       "14  гражданский брак                 1      F   компаньон     1   \n",
       "15   женат / замужем                 0      F   сотрудник     0   \n",
       "16   женат / замужем                 0      F   сотрудник     0   \n",
       "17  гражданский брак                 1      M   сотрудник     0   \n",
       "18    вдовец / вдова                 2      F   пенсионер     0   \n",
       "19         в разводе                 3      F   сотрудник     0   \n",
       "\n",
       "     total_income                                 purpose  \n",
       "0   253875.639453                           покупка жилья  \n",
       "1   112080.014102                 приобретение автомобиля  \n",
       "2   145885.952297                           покупка жилья  \n",
       "3   267628.550329              дополнительное образование  \n",
       "4   158616.077870                         сыграть свадьбу  \n",
       "5   255763.565419                           покупка жилья  \n",
       "6   240525.971920                       операции с жильем  \n",
       "7   135823.934197                             образование  \n",
       "8    95856.832424                   на проведение свадьбы  \n",
       "9   144425.938277                 покупка жилья для семьи  \n",
       "10  113943.491460                    покупка недвижимости  \n",
       "11   77069.234271       покупка коммерческой недвижимости  \n",
       "12            NaN                         сыграть свадьбу  \n",
       "13  130458.228857                 приобретение автомобиля  \n",
       "14  165127.911772              покупка жилой недвижимости  \n",
       "15  116820.904450  строительство собственной недвижимости  \n",
       "16  289202.704229                            недвижимость  \n",
       "17   90410.586745              строительство недвижимости  \n",
       "18   56823.777243      на покупку подержанного автомобиля  \n",
       "19  242831.107982            на покупку своего автомобиля  "
      ]
     },
     "execution_count": 2,
     "metadata": {},
     "output_type": "execute_result"
    }
   ],
   "source": [
    "data.head(20)"
   ]
  },
  {
   "cell_type": "markdown",
   "id": "d030ec04",
   "metadata": {
    "deletable": false,
    "editable": false,
    "id": "1c12e233"
   },
   "source": [
    "**Задание 3. Выведите основную информацию о датафрейме с помощью метода `info()`.**"
   ]
  },
  {
   "cell_type": "code",
   "execution_count": 3,
   "id": "1d6c49a8",
   "metadata": {
    "deletable": false,
    "id": "2b757bca",
    "outputId": "15376089-8dad-46c9-b520-c05248d43158"
   },
   "outputs": [
    {
     "name": "stdout",
     "output_type": "stream",
     "text": [
      "<class 'pandas.core.frame.DataFrame'>\n",
      "RangeIndex: 21525 entries, 0 to 21524\n",
      "Data columns (total 12 columns):\n",
      " #   Column            Non-Null Count  Dtype  \n",
      "---  ------            --------------  -----  \n",
      " 0   children          21525 non-null  int64  \n",
      " 1   days_employed     19351 non-null  float64\n",
      " 2   dob_years         21525 non-null  int64  \n",
      " 3   education         21525 non-null  object \n",
      " 4   education_id      21525 non-null  int64  \n",
      " 5   family_status     21525 non-null  object \n",
      " 6   family_status_id  21525 non-null  int64  \n",
      " 7   gender            21525 non-null  object \n",
      " 8   income_type       21525 non-null  object \n",
      " 9   debt              21525 non-null  int64  \n",
      " 10  total_income      19351 non-null  float64\n",
      " 11  purpose           21525 non-null  object \n",
      "dtypes: float64(2), int64(5), object(5)\n",
      "memory usage: 2.0+ MB\n"
     ]
    }
   ],
   "source": [
    "data.info()"
   ]
  },
  {
   "cell_type": "markdown",
   "id": "e5c5fdac",
   "metadata": {
    "deletable": false,
    "editable": false,
    "id": "333ec665"
   },
   "source": [
    "## Предобработка данных"
   ]
  },
  {
   "cell_type": "markdown",
   "id": "049498a4",
   "metadata": {
    "deletable": false,
    "editable": false,
    "id": "02d92d53"
   },
   "source": [
    "### Удаление пропусков"
   ]
  },
  {
   "cell_type": "markdown",
   "id": "5ce3c61d",
   "metadata": {
    "deletable": false,
    "editable": false,
    "id": "cd84967c"
   },
   "source": [
    "**Задание 4. Выведите количество пропущенных значений для каждого столбца. Используйте комбинацию двух методов.**"
   ]
  },
  {
   "cell_type": "code",
   "execution_count": 4,
   "id": "904436e2",
   "metadata": {
    "deletable": false,
    "id": "7f9b2309",
    "outputId": "81f4d817-781c-465c-ed15-91ce4446810d"
   },
   "outputs": [
    {
     "data": {
      "text/plain": [
       "children               0\n",
       "days_employed       2174\n",
       "dob_years              0\n",
       "education              0\n",
       "education_id           0\n",
       "family_status          0\n",
       "family_status_id       0\n",
       "gender                 0\n",
       "income_type            0\n",
       "debt                   0\n",
       "total_income        2174\n",
       "purpose                0\n",
       "dtype: int64"
      ]
     },
     "execution_count": 4,
     "metadata": {},
     "output_type": "execute_result"
    }
   ],
   "source": [
    "data.isna().sum()"
   ]
  },
  {
   "cell_type": "markdown",
   "id": "abf3e45d",
   "metadata": {
    "deletable": false,
    "editable": false,
    "id": "db86e27b"
   },
   "source": [
    "**Задание 5. В двух столбцах есть пропущенные значения. Один из них — `days_employed`. Пропуски в этом столбце вы обработаете на следующем этапе. Другой столбец с пропущенными значениями — `total_income` — хранит данные о доходах. На сумму дохода сильнее всего влияет тип занятости, поэтому заполнить пропуски в этом столбце нужно медианным значением по каждому типу из столбца `income_type`. Например, у человека с типом занятости `сотрудник` пропуск в столбце `total_income` должен быть заполнен медианным доходом среди всех записей с тем же типом.**"
   ]
  },
  {
   "cell_type": "code",
   "execution_count": 5,
   "id": "bef1c189",
   "metadata": {
    "deletable": false,
    "id": "42006a93"
   },
   "outputs": [],
   "source": [
    "for t in data['income_type'].unique():\n",
    "    data.loc[(data['income_type'] == t) & (data['total_income'].isna()), 'total_income'] = \\\n",
    "    data.loc[(data['income_type'] == t), 'total_income'].median()"
   ]
  },
  {
   "cell_type": "markdown",
   "id": "0932e5bf",
   "metadata": {
    "deletable": false,
    "editable": false,
    "id": "89da5ece"
   },
   "source": [
    "### Обработка аномальных значений"
   ]
  },
  {
   "cell_type": "markdown",
   "id": "8ec7a909",
   "metadata": {
    "deletable": false,
    "editable": false,
    "id": "57964554"
   },
   "source": [
    "**Задание 6. В данных могут встречаться артефакты (аномалии) — значения, которые не отражают действительность и появились по какой-то ошибке. таким артефактом будет отрицательное количество дней трудового стажа в столбце `days_employed`. Для реальных данных это нормально. Обработайте значения в этом столбце: замените все отрицательные значения положительными с помощью метода `abs()`.**"
   ]
  },
  {
   "cell_type": "code",
   "execution_count": 6,
   "id": "7e32272e",
   "metadata": {
    "deletable": false,
    "id": "f6f055bf"
   },
   "outputs": [],
   "source": [
    "data['days_employed'] = data['days_employed'].abs()"
   ]
  },
  {
   "cell_type": "markdown",
   "id": "b60874af",
   "metadata": {
    "deletable": false,
    "editable": false,
    "id": "6107dd2f"
   },
   "source": [
    "**Задание 7. Для каждого типа занятости выведите медианное значение трудового стажа `days_employed` в днях.**"
   ]
  },
  {
   "cell_type": "code",
   "execution_count": 7,
   "id": "36cd5f82",
   "metadata": {
    "deletable": false,
    "id": "85a5faf6",
    "outputId": "801ef80e-522b-4668-f34e-565af7432bcf"
   },
   "outputs": [
    {
     "data": {
      "text/plain": [
       "income_type\n",
       "безработный        366413.652744\n",
       "в декрете            3296.759962\n",
       "госслужащий          2689.368353\n",
       "компаньон            1547.382223\n",
       "пенсионер          365213.306266\n",
       "предприниматель       520.848083\n",
       "сотрудник            1574.202821\n",
       "студент               578.751554\n",
       "Name: days_employed, dtype: float64"
      ]
     },
     "execution_count": 7,
     "metadata": {},
     "output_type": "execute_result"
    }
   ],
   "source": [
    "data.groupby('income_type')['days_employed'].agg('median')"
   ]
  },
  {
   "cell_type": "markdown",
   "id": "af6917ee",
   "metadata": {
    "deletable": false,
    "editable": false,
    "id": "38d1a030"
   },
   "source": [
    "У двух типов (безработные и пенсионеры) получатся аномально большие значения. Исправить такие значения сложно, поэтому оставьте их как есть. Тем более этот столбец не понадобится вам для исследования."
   ]
  },
  {
   "cell_type": "markdown",
   "id": "b6619bce",
   "metadata": {
    "deletable": false,
    "editable": false,
    "id": "d8a9f147"
   },
   "source": [
    "**Задание 8. Выведите перечень уникальных значений столбца `children`.**"
   ]
  },
  {
   "cell_type": "code",
   "execution_count": 8,
   "id": "f12939c4",
   "metadata": {
    "deletable": false,
    "id": "ef5056eb",
    "outputId": "6975b15c-7f95-4697-d16d-a0c79b657b03"
   },
   "outputs": [
    {
     "data": {
      "text/plain": [
       "array([ 1,  0,  3,  2, -1,  4, 20,  5], dtype=int64)"
      ]
     },
     "execution_count": 8,
     "metadata": {},
     "output_type": "execute_result"
    }
   ],
   "source": [
    "data['children'].unique()"
   ]
  },
  {
   "cell_type": "markdown",
   "id": "b2acaadb",
   "metadata": {
    "deletable": false,
    "editable": false,
    "id": "40b9ebf2"
   },
   "source": [
    "**Задание 9. В столбце `children` есть два аномальных значения. Удалите строки, в которых встречаются такие аномальные значения из датафрейма `data`.**"
   ]
  },
  {
   "cell_type": "code",
   "execution_count": 9,
   "id": "dd0f2def",
   "metadata": {
    "deletable": false,
    "id": "3ff9801d"
   },
   "outputs": [],
   "source": [
    "data = data[(data['children'] != -1) & (data['children'] != 20)]"
   ]
  },
  {
   "cell_type": "markdown",
   "id": "58c9b296",
   "metadata": {
    "deletable": false,
    "editable": false,
    "id": "bbc4d0ce"
   },
   "source": [
    "**Задание 10. Ещё раз выведите перечень уникальных значений столбца `children`, чтобы убедиться, что артефакты удалены.**"
   ]
  },
  {
   "cell_type": "code",
   "execution_count": 10,
   "id": "c43a6a39",
   "metadata": {
    "deletable": false,
    "id": "ad4fa8b7",
    "outputId": "b2097101-d49d-44d9-901b-32a65c9463d1"
   },
   "outputs": [
    {
     "data": {
      "text/plain": [
       "array([1, 0, 3, 2, 4, 5], dtype=int64)"
      ]
     },
     "execution_count": 10,
     "metadata": {},
     "output_type": "execute_result"
    }
   ],
   "source": [
    "data['children'].unique()"
   ]
  },
  {
   "cell_type": "markdown",
   "id": "6b238254",
   "metadata": {
    "deletable": false,
    "editable": false,
    "id": "75440b63"
   },
   "source": [
    "### Удаление пропусков (продолжение)"
   ]
  },
  {
   "cell_type": "markdown",
   "id": "c5b44a39",
   "metadata": {
    "deletable": false,
    "editable": false,
    "id": "f4ea573f"
   },
   "source": [
    "**Задание 11. Заполните пропуски в столбце `days_employed` медианными значениями по каждого типа занятости `income_type`.**"
   ]
  },
  {
   "cell_type": "code",
   "execution_count": 11,
   "id": "b9cd1819",
   "metadata": {
    "deletable": false,
    "id": "af6b1a7e"
   },
   "outputs": [],
   "source": [
    "for t in data['income_type'].unique():\n",
    "    data.loc[(data['income_type'] == t) & (data['days_employed'].isna()), 'days_employed'] = \\\n",
    "    data.loc[(data['income_type'] == t), 'days_employed'].median()"
   ]
  },
  {
   "cell_type": "markdown",
   "id": "fc500c27",
   "metadata": {
    "deletable": false,
    "editable": false,
    "id": "2753f40d"
   },
   "source": [
    "**Задание 12. Убедитесь, что все пропуски заполнены. Проверьте себя и ещё раз выведите количество пропущенных значений для каждого столбца с помощью двух методов.**"
   ]
  },
  {
   "cell_type": "code",
   "execution_count": 12,
   "id": "81d65a6a",
   "metadata": {
    "deletable": false,
    "id": "55f78bc2",
    "outputId": "8da1e4e1-358e-4e87-98c9-f261bce0a7b2"
   },
   "outputs": [
    {
     "data": {
      "text/plain": [
       "children            0\n",
       "days_employed       0\n",
       "dob_years           0\n",
       "education           0\n",
       "education_id        0\n",
       "family_status       0\n",
       "family_status_id    0\n",
       "gender              0\n",
       "income_type         0\n",
       "debt                0\n",
       "total_income        0\n",
       "purpose             0\n",
       "dtype: int64"
      ]
     },
     "execution_count": 12,
     "metadata": {},
     "output_type": "execute_result"
    }
   ],
   "source": [
    "data.isna().sum()"
   ]
  },
  {
   "cell_type": "markdown",
   "id": "880ac029",
   "metadata": {
    "deletable": false,
    "editable": false,
    "id": "ddc81e43"
   },
   "source": [
    "### Изменение типов данных"
   ]
  },
  {
   "cell_type": "markdown",
   "id": "f2035393",
   "metadata": {
    "deletable": false,
    "editable": false,
    "id": "42d19d24"
   },
   "source": [
    "**Задание 13. Замените вещественный тип данных в столбце `total_income` на целочисленный с помощью метода `astype()`.**"
   ]
  },
  {
   "cell_type": "code",
   "execution_count": 13,
   "id": "5b8ac685",
   "metadata": {
    "deletable": false,
    "id": "920b65ad"
   },
   "outputs": [],
   "source": [
    "data['total_income'] = data['total_income'].astype(int)"
   ]
  },
  {
   "cell_type": "markdown",
   "id": "81995ad0",
   "metadata": {
    "deletable": false,
    "editable": false,
    "id": "80c420ba"
   },
   "source": [
    "### Обработка дубликатов"
   ]
  },
  {
   "cell_type": "markdown",
   "id": "92c053f8",
   "metadata": {
    "deletable": false,
    "editable": false
   },
   "source": [
    "**Задание 14. Обработайте неявные дубликаты в столбце `education`. В этом столбце есть одни и те же значения, но записанные по-разному: с использованием заглавных и строчных букв. Приведите их к нижнему регистру. Проверьте остальные столбцы.**"
   ]
  },
  {
   "cell_type": "code",
   "execution_count": 14,
   "id": "d26da799",
   "metadata": {
    "deletable": false
   },
   "outputs": [],
   "source": [
    "data['education'] = data['education'].str.lower()"
   ]
  },
  {
   "cell_type": "markdown",
   "id": "6480b147",
   "metadata": {
    "deletable": false,
    "editable": false,
    "id": "dc587695"
   },
   "source": [
    "**Задание 15. Выведите на экран количество строк-дубликатов в данных. Если такие строки присутствуют, удалите их.**"
   ]
  },
  {
   "cell_type": "code",
   "execution_count": 15,
   "id": "6d23407d",
   "metadata": {
    "deletable": false,
    "id": "3ee445e4",
    "outputId": "9684deba-1934-42d1-99e1-cda61740f822"
   },
   "outputs": [
    {
     "data": {
      "text/plain": [
       "71"
      ]
     },
     "execution_count": 15,
     "metadata": {},
     "output_type": "execute_result"
    }
   ],
   "source": [
    "data.duplicated().sum()"
   ]
  },
  {
   "cell_type": "code",
   "execution_count": 16,
   "id": "52a3797a",
   "metadata": {
    "deletable": false,
    "id": "8575fe05"
   },
   "outputs": [],
   "source": [
    "data = data.drop_duplicates()"
   ]
  },
  {
   "cell_type": "markdown",
   "id": "f40ace49",
   "metadata": {
    "deletable": false,
    "editable": false,
    "id": "9904cf55"
   },
   "source": [
    "### Категоризация данных"
   ]
  },
  {
   "cell_type": "markdown",
   "id": "97bab7fd",
   "metadata": {
    "deletable": false,
    "editable": false,
    "id": "72fcc8a2"
   },
   "source": [
    "**Задание 16. На основании диапазонов, указанных ниже, создайте в датафрейме `data` столбец `total_income_category` с категориями:**\n",
    "\n",
    "- 0–30000 — `'E'`;\n",
    "- 30001–50000 — `'D'`;\n",
    "- 50001–200000 — `'C'`;\n",
    "- 200001–1000000 — `'B'`;\n",
    "- 1000001 и выше — `'A'`.\n",
    "\n",
    "\n",
    "**Например, кредитополучателю с доходом 25000 нужно назначить категорию `'E'`, а клиенту, получающему 235000, — `'B'`. Используйте собственную функцию с именем `categorize_income()` и метод `apply()`.**"
   ]
  },
  {
   "cell_type": "code",
   "execution_count": 17,
   "id": "d8a0fdd5",
   "metadata": {
    "deletable": false,
    "id": "e1771346"
   },
   "outputs": [],
   "source": [
    "def categorize_income(income):\n",
    "    try:\n",
    "        if 0 <= income <= 30000:\n",
    "            return 'E'\n",
    "        elif 30001 <= income <= 50000:\n",
    "            return 'D'\n",
    "        elif 50001 <= income <= 200000:\n",
    "            return 'C'\n",
    "        elif 200001 <= income <= 1000000:\n",
    "            return 'B'\n",
    "        elif income >= 1000001:\n",
    "            return 'A'\n",
    "    except:\n",
    "        pass"
   ]
  },
  {
   "cell_type": "code",
   "execution_count": 18,
   "id": "ce261b43",
   "metadata": {
    "deletable": false,
    "id": "d5f3586d"
   },
   "outputs": [],
   "source": [
    "data['total_income_category'] = data['total_income'].apply(categorize_income)"
   ]
  },
  {
   "cell_type": "markdown",
   "id": "fea21744",
   "metadata": {
    "deletable": false,
    "editable": false,
    "id": "dde49b5c"
   },
   "source": [
    "**Задание 17. Выведите на экран перечень уникальных целей взятия кредита из столбца `purpose`.**"
   ]
  },
  {
   "cell_type": "code",
   "execution_count": 19,
   "id": "99b0e677",
   "metadata": {
    "deletable": false,
    "id": "f67ce9b3",
    "outputId": "673c12d9-7d7e-4ae0-9812-c622c89dd244"
   },
   "outputs": [
    {
     "data": {
      "text/plain": [
       "array(['покупка жилья', 'приобретение автомобиля',\n",
       "       'дополнительное образование', 'сыграть свадьбу',\n",
       "       'операции с жильем', 'образование', 'на проведение свадьбы',\n",
       "       'покупка жилья для семьи', 'покупка недвижимости',\n",
       "       'покупка коммерческой недвижимости', 'покупка жилой недвижимости',\n",
       "       'строительство собственной недвижимости', 'недвижимость',\n",
       "       'строительство недвижимости', 'на покупку подержанного автомобиля',\n",
       "       'на покупку своего автомобиля',\n",
       "       'операции с коммерческой недвижимостью',\n",
       "       'строительство жилой недвижимости', 'жилье',\n",
       "       'операции со своей недвижимостью', 'автомобили',\n",
       "       'заняться образованием', 'сделка с подержанным автомобилем',\n",
       "       'получение образования', 'автомобиль', 'свадьба',\n",
       "       'получение дополнительного образования', 'покупка своего жилья',\n",
       "       'операции с недвижимостью', 'получение высшего образования',\n",
       "       'свой автомобиль', 'сделка с автомобилем',\n",
       "       'профильное образование', 'высшее образование',\n",
       "       'покупка жилья для сдачи', 'на покупку автомобиля', 'ремонт жилью',\n",
       "       'заняться высшим образованием'], dtype=object)"
      ]
     },
     "execution_count": 19,
     "metadata": {},
     "output_type": "execute_result"
    }
   ],
   "source": [
    "data['purpose'].unique()"
   ]
  },
  {
   "cell_type": "markdown",
   "id": "1141da19",
   "metadata": {
    "deletable": false,
    "editable": false,
    "id": "85d0aef0"
   },
   "source": [
    "**Задание 18. Создайте функцию, которая на основании данных из столбца `purpose` сформирует новый столбец `purpose_category`, в который войдут следующие категории:**\n",
    "\n",
    "- `'операции с автомобилем'`,\n",
    "- `'операции с недвижимостью'`,\n",
    "- `'проведение свадьбы'`,\n",
    "- `'получение образования'`.\n",
    "\n",
    "**Например, если в столбце `purpose` находится подстрока `'на покупку автомобиля'`, то в столбце `purpose_category` должна появиться строка `'операции с автомобилем'`.**\n",
    "\n",
    "**Используйте собственную функцию с именем `categorize_purpose()` и метод `apply()`. Изучите данные в столбце `purpose` и определите, какие подстроки помогут вам правильно определить категорию.**"
   ]
  },
  {
   "cell_type": "code",
   "execution_count": 20,
   "id": "d6c2d3f4",
   "metadata": {
    "deletable": false,
    "id": "e149fab4"
   },
   "outputs": [],
   "source": [
    "def categorize_purpose(row):\n",
    "    try:\n",
    "        if 'автом' in row:\n",
    "            return 'операции с автомобилем'\n",
    "        elif 'жил' in row or 'недвиж' in row:\n",
    "            return 'операции с недвижимостью'\n",
    "        elif 'свад' in row:\n",
    "            return 'проведение свадьбы'\n",
    "        elif 'образов' in row:\n",
    "            return 'получение образования'\n",
    "    except:\n",
    "        return 'нет категории'"
   ]
  },
  {
   "cell_type": "code",
   "execution_count": 21,
   "id": "5ec88bc5",
   "metadata": {
    "deletable": false,
    "id": "bf36e69b"
   },
   "outputs": [],
   "source": [
    "data['purpose_category'] = data['purpose'].apply(categorize_purpose)"
   ]
  },
  {
   "cell_type": "markdown",
   "id": "5694d92b",
   "metadata": {
    "deletable": false,
    "editable": false,
    "id": "09b242bf"
   },
   "source": [
    "### Шаг 3. Исследуйте данные и ответьте на вопросы"
   ]
  },
  {
   "cell_type": "markdown",
   "id": "47901192",
   "metadata": {
    "deletable": false,
    "editable": false,
    "id": "c5d66278"
   },
   "source": [
    "#### 3.1 Есть ли зависимость между количеством детей и возвратом кредита в срок?"
   ]
  },
  {
   "cell_type": "code",
   "execution_count": 26,
   "id": "19aed22d",
   "metadata": {
    "deletable": false,
    "id": "2cacfc4a"
   },
   "outputs": [
    {
     "data": {
      "text/html": [
       "<div>\n",
       "<style scoped>\n",
       "    .dataframe tbody tr th:only-of-type {\n",
       "        vertical-align: middle;\n",
       "    }\n",
       "\n",
       "    .dataframe tbody tr th {\n",
       "        vertical-align: top;\n",
       "    }\n",
       "\n",
       "    .dataframe thead th {\n",
       "        text-align: right;\n",
       "    }\n",
       "</style>\n",
       "<table border=\"1\" class=\"dataframe\">\n",
       "  <thead>\n",
       "    <tr style=\"text-align: right;\">\n",
       "      <th></th>\n",
       "      <th>has debt</th>\n",
       "      <th>all payed</th>\n",
       "      <th>relation</th>\n",
       "    </tr>\n",
       "    <tr>\n",
       "      <th>children count</th>\n",
       "      <th></th>\n",
       "      <th></th>\n",
       "      <th></th>\n",
       "    </tr>\n",
       "  </thead>\n",
       "  <tbody>\n",
       "    <tr>\n",
       "      <th>0</th>\n",
       "      <td>1063</td>\n",
       "      <td>13028</td>\n",
       "      <td>0.082</td>\n",
       "    </tr>\n",
       "    <tr>\n",
       "      <th>1</th>\n",
       "      <td>444</td>\n",
       "      <td>4364</td>\n",
       "      <td>0.102</td>\n",
       "    </tr>\n",
       "    <tr>\n",
       "      <th>2</th>\n",
       "      <td>194</td>\n",
       "      <td>1858</td>\n",
       "      <td>0.104</td>\n",
       "    </tr>\n",
       "    <tr>\n",
       "      <th>3</th>\n",
       "      <td>27</td>\n",
       "      <td>303</td>\n",
       "      <td>0.089</td>\n",
       "    </tr>\n",
       "    <tr>\n",
       "      <th>4</th>\n",
       "      <td>4</td>\n",
       "      <td>37</td>\n",
       "      <td>0.108</td>\n",
       "    </tr>\n",
       "    <tr>\n",
       "      <th>5</th>\n",
       "      <td>0</td>\n",
       "      <td>9</td>\n",
       "      <td>0.000</td>\n",
       "    </tr>\n",
       "  </tbody>\n",
       "</table>\n",
       "</div>"
      ],
      "text/plain": [
       "                has debt  all payed  relation\n",
       "children count                               \n",
       "0                   1063      13028     0.082\n",
       "1                    444       4364     0.102\n",
       "2                    194       1858     0.104\n",
       "3                     27        303     0.089\n",
       "4                      4         37     0.108\n",
       "5                      0          9     0.000"
      ]
     },
     "metadata": {},
     "output_type": "display_data"
    }
   ],
   "source": [
    "childrens = sorted(data['children'].unique())\n",
    "\n",
    "rel_child_debt = pd.DataFrame({ \n",
    "    \"has debt\": [data.loc[(data['children'] == child_count) & (data['debt'] == 1), 'debt'].count() for child_count in childrens],\n",
    "    \"all payed\": [data.loc[(data['children'] == child_count) & (data['debt'] == 0), 'debt'].count() for child_count in childrens],\n",
    "}, index = childrens)\n",
    "rel_child_debt.index.name = \"children count\"\n",
    "rel_child_debt['relation'] = round(rel_child_debt['has debt'] / rel_child_debt['all payed'], 3)\n",
    "\n",
    "display(rel_child_debt)"
   ]
  },
  {
   "cell_type": "markdown",
   "id": "a9d2a577",
   "metadata": {
    "deletable": false,
    "id": "3a6b99ec"
   },
   "source": [
    "**Вывод:** Можно проследить то, что влияние есть, но небольшое. В целом соотношение по количеству кредитов и задолженности примерно на одном уровне. Мы видим, что люди, у которых 5 детей, не допускают просрочку, но и в целом кредитов берут меньше, чем остальные. В то же время люди, у которых 4 детей по соотношению допускают просрочки больше всех. При этом люди, у которых детей нет, стабильнее выплачивают долг. Соответсвенно зависимость есть, однако незначительная. Но так же стоит отметить, что выборки с 3,4 и 5 детьми непрезентативны, слишком мало значений, в сумме менее 2%. Их не стоит учитывать при анализе, если этого не требует задача, как сейчас."
   ]
  },
  {
   "cell_type": "markdown",
   "id": "0ec86f04",
   "metadata": {
    "deletable": false,
    "editable": false,
    "id": "97be82ca"
   },
   "source": [
    "#### 3.2 Есть ли зависимость между семейным положением и возвратом кредита в срок?"
   ]
  },
  {
   "cell_type": "code",
   "execution_count": 23,
   "id": "fbfed91c",
   "metadata": {
    "deletable": false,
    "id": "dc3f7ee8"
   },
   "outputs": [
    {
     "name": "stdout",
     "output_type": "stream",
     "text": [
      "                       total  with debt  relation\n",
      "family_status                                    \n",
      "Не женат / не замужем   2796        273     0.098\n",
      "в разводе               1189         84     0.071\n",
      "вдовец / вдова           951         63     0.066\n",
      "гражданский брак        4134        385     0.093\n",
      "женат / замужем        12261        927     0.076\n"
     ]
    }
   ],
   "source": [
    "married_debt = data.pivot_table(index = ['family_status'], values = 'debt', aggfunc={'count', 'sum'})\n",
    "married_debt = married_debt.rename(columns={'count': 'total', 'sum': 'with debt'})\n",
    "married_debt['relation'] = round(married_debt['with debt'] / married_debt['total'], 3)\n",
    "print(married_debt)"
   ]
  },
  {
   "cell_type": "markdown",
   "id": "735db489",
   "metadata": {
    "deletable": false,
    "id": "1cef7837"
   },
   "source": [
    "**Вывод:** Видно, что люди, которые не состояли в браке и люди в гражданском браке имеют задолженности чаще, чем остальные. Могу предположить, что это из-за того, что их уровень отвественности ниже, чем у остальных людей в списке. Так же можно заметить, что люди в браке чаще берут кредит. Скорее всего это связанно с потребностями семьи, вроде: покупка жилья, машины или подготовка к рождению ребенка. Но в сравнении, люди, которые были или находятся в браке, более платёжеспособны и стабильно выплачивают долг. Скорее всего, потому что они ответсвенны. Зависимость есть."
   ]
  },
  {
   "cell_type": "markdown",
   "id": "f5c2deb2",
   "metadata": {
    "deletable": false,
    "editable": false,
    "id": "1e8b2fca"
   },
   "source": [
    "#### 3.3 Есть ли зависимость между уровнем дохода и возвратом кредита в срок?"
   ]
  },
  {
   "cell_type": "code",
   "execution_count": 24,
   "id": "e57cb513",
   "metadata": {
    "deletable": false,
    "id": "cd7e3720"
   },
   "outputs": [
    {
     "data": {
      "text/html": [
       "<div>\n",
       "<style scoped>\n",
       "    .dataframe tbody tr th:only-of-type {\n",
       "        vertical-align: middle;\n",
       "    }\n",
       "\n",
       "    .dataframe tbody tr th {\n",
       "        vertical-align: top;\n",
       "    }\n",
       "\n",
       "    .dataframe thead th {\n",
       "        text-align: right;\n",
       "    }\n",
       "</style>\n",
       "<table border=\"1\" class=\"dataframe\">\n",
       "  <thead>\n",
       "    <tr style=\"text-align: right;\">\n",
       "      <th></th>\n",
       "      <th>total</th>\n",
       "      <th>with debt</th>\n",
       "      <th>relation</th>\n",
       "    </tr>\n",
       "    <tr>\n",
       "      <th>total_income_category</th>\n",
       "      <th></th>\n",
       "      <th></th>\n",
       "      <th></th>\n",
       "    </tr>\n",
       "  </thead>\n",
       "  <tbody>\n",
       "    <tr>\n",
       "      <th>A</th>\n",
       "      <td>25</td>\n",
       "      <td>2</td>\n",
       "      <td>0.080</td>\n",
       "    </tr>\n",
       "    <tr>\n",
       "      <th>B</th>\n",
       "      <td>5014</td>\n",
       "      <td>354</td>\n",
       "      <td>0.071</td>\n",
       "    </tr>\n",
       "    <tr>\n",
       "      <th>C</th>\n",
       "      <td>15921</td>\n",
       "      <td>1353</td>\n",
       "      <td>0.085</td>\n",
       "    </tr>\n",
       "    <tr>\n",
       "      <th>D</th>\n",
       "      <td>349</td>\n",
       "      <td>21</td>\n",
       "      <td>0.060</td>\n",
       "    </tr>\n",
       "    <tr>\n",
       "      <th>E</th>\n",
       "      <td>22</td>\n",
       "      <td>2</td>\n",
       "      <td>0.091</td>\n",
       "    </tr>\n",
       "  </tbody>\n",
       "</table>\n",
       "</div>"
      ],
      "text/plain": [
       "                       total  with debt  relation\n",
       "total_income_category                            \n",
       "A                         25          2     0.080\n",
       "B                       5014        354     0.071\n",
       "C                      15921       1353     0.085\n",
       "D                        349         21     0.060\n",
       "E                         22          2     0.091"
      ]
     },
     "metadata": {},
     "output_type": "display_data"
    }
   ],
   "source": [
    "inc_debt = data.pivot_table(index=['total_income_category'], values = 'debt', aggfunc={'count', 'sum'})\n",
    "inc_debt = inc_debt.rename(columns={'count': 'total', 'sum': 'with debt'})\n",
    "inc_debt['relation'] = round(inc_debt['with debt'] / inc_debt['total'], 3)\n",
    "display(inc_debt)"
   ]
  },
  {
   "cell_type": "markdown",
   "id": "cf76b907",
   "metadata": {
    "deletable": false,
    "id": "e8593def"
   },
   "source": [
    "**Вывод:** Примечательно, что люди с самым низким доходом возвращают деньги лучше всего. Но при этом категория D возвращают хуже всех. У C и A классов задолженность почти одинаковая, но при этом С берут кредиты больше всех. Так же можно обратить внимание, что между ними B класс, где люди уже не так хорошо выплачивают долги. Мне кажется в данном случае зависимость минимальна"
   ]
  },
  {
   "cell_type": "markdown",
   "id": "59514bb9",
   "metadata": {},
   "source": [
    "<div class=\"alert alert-info\">\n",
    "\n",
    "#### **Артём:** 💡 Дам тебе совет на будущее, как лучше проводить категоризацию количественных данных. **В этом проекте переделывать ничего не надо, так как заказчик уже предложил свои категории, его стоит проинформировать, что выборки крайне несбалансированны.** Если только как дополнительное исследование.\n",
    "    \n",
    "Сейчас самая маленькая категория в 728 раз меньше самой большой. Это может отразиться на результатах исследования. Когда мы делим на категории количественные данные, то лучше их делать примерно одинаковыми. Для этого можно воспользоваться методом `qcut()`. Пример:\n",
    "    \n",
    "```py\n",
    "pd.qcut(df['total_income'], 4)\n",
    "```\n",
    "    \n",
    "```\n",
    "Name: total_income, Length: 21453, dtype: category\n",
    "Categories (4, interval[float64]): [(20666.999, 107620.0]  (107620.0, 142594.0]  (142594.0, 195818.0]  (195818.0, 2265604.0]]\n",
    "```\n",
    "                                                                                                               \n",
    "Что внутри: \n",
    "    \n",
    "```py\n",
    "pd.qcut(датафрейм['столбец'], количество_категорий)\n",
    "``` \n",
    "    \n",
    "Итого у нас 4 категории:\n",
    "<ul>\n",
    "  <li>меньше 107_620</li>\n",
    "  <li>от 107_620 до 142_594</li>\n",
    "  <li>от 142_594 до 195_818</li>\n",
    "  <li>от 195_818</li>\n",
    "</ul>"
   ]
  },
  {
   "cell_type": "markdown",
   "id": "6e9c24db",
   "metadata": {
    "deletable": false,
    "editable": false,
    "id": "99ecbd1f"
   },
   "source": [
    "#### 3.4 Как разные цели кредита влияют на его возврат в срок?"
   ]
  },
  {
   "cell_type": "code",
   "execution_count": 25,
   "id": "3df38dbd",
   "metadata": {
    "deletable": false,
    "id": "2b687290"
   },
   "outputs": [
    {
     "data": {
      "text/html": [
       "<div>\n",
       "<style scoped>\n",
       "    .dataframe tbody tr th:only-of-type {\n",
       "        vertical-align: middle;\n",
       "    }\n",
       "\n",
       "    .dataframe tbody tr th {\n",
       "        vertical-align: top;\n",
       "    }\n",
       "\n",
       "    .dataframe thead th {\n",
       "        text-align: right;\n",
       "    }\n",
       "</style>\n",
       "<table border=\"1\" class=\"dataframe\">\n",
       "  <thead>\n",
       "    <tr style=\"text-align: right;\">\n",
       "      <th></th>\n",
       "      <th>total</th>\n",
       "      <th>target</th>\n",
       "      <th>share</th>\n",
       "    </tr>\n",
       "    <tr>\n",
       "      <th>purpose_category</th>\n",
       "      <th></th>\n",
       "      <th></th>\n",
       "      <th></th>\n",
       "    </tr>\n",
       "  </thead>\n",
       "  <tbody>\n",
       "    <tr>\n",
       "      <th>операции с недвижимостью</th>\n",
       "      <td>10751</td>\n",
       "      <td>780</td>\n",
       "      <td>0.073</td>\n",
       "    </tr>\n",
       "    <tr>\n",
       "      <th>проведение свадьбы</th>\n",
       "      <td>2313</td>\n",
       "      <td>183</td>\n",
       "      <td>0.079</td>\n",
       "    </tr>\n",
       "    <tr>\n",
       "      <th>операции с автомобилем</th>\n",
       "      <td>4279</td>\n",
       "      <td>400</td>\n",
       "      <td>0.093</td>\n",
       "    </tr>\n",
       "    <tr>\n",
       "      <th>получение образования</th>\n",
       "      <td>3988</td>\n",
       "      <td>369</td>\n",
       "      <td>0.093</td>\n",
       "    </tr>\n",
       "  </tbody>\n",
       "</table>\n",
       "</div>"
      ],
      "text/plain": [
       "                          total  target  share\n",
       "purpose_category                              \n",
       "операции с недвижимостью  10751     780  0.073\n",
       "проведение свадьбы         2313     183  0.079\n",
       "операции с автомобилем     4279     400  0.093\n",
       "получение образования      3988     369  0.093"
      ]
     },
     "metadata": {},
     "output_type": "display_data"
    }
   ],
   "source": [
    "target = data.pivot_table(index = [ 'purpose_category'], values = 'debt', aggfunc = {'count','sum'})\n",
    "target = target.rename(columns={'count':'total','sum':'target'})\n",
    "target['share'] = round(target['target']/target['total'], 3)\n",
    "target = target.sort_values(by='share', ascending=True)\n",
    "display(target)"
   ]
  },
  {
   "cell_type": "markdown",
   "id": "941e3dc5",
   "metadata": {
    "deletable": false,
    "id": "b4bb2ce6"
   },
   "source": [
    "**Вывод:** В этом случае просто отлично видно зависимость между целью кредита и возвратом. Особенно явная причина почему люди, которые берут кредит на учебу, плохо платят, ведь, вероятнее всего, кредит взял студент. А учиться и работать одновременно не каждый сможет, вот и появляются долги. Так же примечательно, что люди, которые берут кредит на автомобиль тоже плохо платят. И я могу отлично понять почему, ведь, скорее всего, эти люди не рассчитали, что саму машину тоже надо содержать и вечно оплачивать бензин и тех обслуживание. А вот у людей, которые взяли кредит на свадьбу или недвижимость с выплатами получше. Наверное потому что в целом до этих вещей доходят более отвественные и умственно зрелые люди"
   ]
  },
  {
   "cell_type": "markdown",
   "id": "467fd305",
   "metadata": {},
   "source": [
    "<div class=\"alert alert-success\">\n",
    "\n",
    "**Артём:** 👍 Правильно.\n",
    "\n",
    "</div>"
   ]
  },
  {
   "cell_type": "markdown",
   "id": "ad19340e",
   "metadata": {
    "deletable": false,
    "editable": false,
    "id": "09c3ac4c"
   },
   "source": [
    "#### 3.5 Приведите возможные причины появления пропусков в исходных данных."
   ]
  },
  {
   "cell_type": "markdown",
   "id": "115aeb6c",
   "metadata": {
    "deletable": false,
    "id": "9da2ceda"
   },
   "source": [
    "*Ответ:* Здесь были проблемы со столбцами days_employed и total_income.На счёт зарплаты, скорее всего, человеческий фактор, кто-то забыл записывать зп после окончательного оффера или же ставил пропуски когда зп сотрудника менялась со временем, чтобы когда-то записать новую. Но всё же, можно обратить внимание на то, что количество пропусков в обоих столбцах одинаковое, поэтому возможно пропуски в этих столбцах связанны."
   ]
  },
  {
   "cell_type": "markdown",
   "id": "5cb93316",
   "metadata": {},
   "source": [
    "<div class=\"alert alert-success\">\n",
    "\n",
    "**Артём:** 👍 Верно.\n",
    "\n",
    "</div>"
   ]
  },
  {
   "cell_type": "markdown",
   "id": "75f607e5",
   "metadata": {
    "deletable": false,
    "editable": false,
    "id": "7b0487d6"
   },
   "source": [
    "#### 3.6 Объясните, почему заполнить пропуски медианным значением — лучшее решение для количественных переменных."
   ]
  },
  {
   "cell_type": "markdown",
   "id": "a6c425b6",
   "metadata": {
    "deletable": false,
    "id": "7ecf2b8e"
   },
   "source": [
    "*Ответ:* Медианное значение лучше, потому что лучше отображает выборку в целом, когда мы работаем с пропущенными значениями количественных переменных. Среднее арифметическое не подойдёт так хорошо, потому что не учитывает разброс данных."
   ]
  },
  {
   "cell_type": "markdown",
   "id": "fdbc8ebd",
   "metadata": {},
   "source": [
    "<div class=\"alert alert-success\">\n",
    "\n",
    "**Артём:** 👍 Молодец.\n",
    "\n",
    "</div>"
   ]
  },
  {
   "cell_type": "markdown",
   "id": "1412a88b",
   "metadata": {
    "deletable": false,
    "editable": false,
    "id": "6db5255a"
   },
   "source": [
    "### Шаг 4: общий вывод."
   ]
  },
  {
   "cell_type": "markdown",
   "id": "71160a7c",
   "metadata": {
    "deletable": false,
    "id": "bad65432"
   },
   "source": [
    " Люди берут кредиты, и в зависимости от определенных ситуаций, действительно можно выявить корелляцию платежеспособности человека, но она будет не точной, поскольку результаты очень разнятся. \n",
    "* Скорее всего человек, который будет плохо платить будет: иметь 4 ребенка, состоять в гражданском браке или быть не замужем, иметь доход категории Е и брать кредит с целью покупки автомобиля или получения образования (кошмарная ситуация в любом случае, не хотелось бы мне так жить).\n",
    "* А вот человек, который наиболее вероятно будет платить кредит в срок: без детей, вдовец или в разводе, с доходом категории D и берёт кредит на недвижимость или свадьбу"
   ]
  },
  {
   "cell_type": "markdown",
   "id": "42cdb25e",
   "metadata": {},
   "source": [
    "## 🏁 Итоги ревью\n",
    "<a id=\"results\"></a>\n",
    "[В начало](#start)\n",
    "<div class=\"alert alert-success\">\n",
    "\n",
    "**Артём:** 👍 Елена, у тебя хорошая работа. Можно идти к заказчику.\n",
    "</div>"
   ]
  },
  {
   "cell_type": "code",
   "execution_count": null,
   "id": "ce93416e",
   "metadata": {},
   "outputs": [],
   "source": []
  }
 ],
 "metadata": {
  "ExecuteTimeLog": [
   {
    "duration": 555,
    "start_time": "2024-04-11T03:06:43.829Z"
   },
   {
    "duration": 22,
    "start_time": "2024-04-11T03:06:44.386Z"
   },
   {
    "duration": 19,
    "start_time": "2024-04-11T03:06:44.409Z"
   },
   {
    "duration": 31,
    "start_time": "2024-04-11T03:06:44.429Z"
   },
   {
    "duration": 63,
    "start_time": "2024-04-11T03:06:44.461Z"
   },
   {
    "duration": 3,
    "start_time": "2024-04-11T03:06:44.525Z"
   },
   {
    "duration": 31,
    "start_time": "2024-04-11T03:06:44.529Z"
   },
   {
    "duration": 22,
    "start_time": "2024-04-11T03:06:44.562Z"
   },
   {
    "duration": 19,
    "start_time": "2024-04-11T03:06:44.585Z"
   },
   {
    "duration": 4,
    "start_time": "2024-04-11T03:06:44.607Z"
   },
   {
    "duration": 49,
    "start_time": "2024-04-11T03:06:44.612Z"
   },
   {
    "duration": 8,
    "start_time": "2024-04-11T03:06:44.662Z"
   },
   {
    "duration": 15,
    "start_time": "2024-04-11T03:06:44.671Z"
   },
   {
    "duration": 15,
    "start_time": "2024-04-11T03:06:44.687Z"
   },
   {
    "duration": 21,
    "start_time": "2024-04-11T03:06:44.703Z"
   },
   {
    "duration": 14,
    "start_time": "2024-04-11T03:06:44.725Z"
   },
   {
    "duration": 3,
    "start_time": "2024-04-11T03:06:44.740Z"
   },
   {
    "duration": 28,
    "start_time": "2024-04-11T03:06:44.744Z"
   },
   {
    "duration": 5,
    "start_time": "2024-04-11T03:06:44.773Z"
   },
   {
    "duration": 12,
    "start_time": "2024-04-11T03:06:44.780Z"
   },
   {
    "duration": 23,
    "start_time": "2024-04-11T03:06:44.793Z"
   },
   {
    "duration": 17,
    "start_time": "2024-04-11T03:06:44.817Z"
   },
   {
    "duration": 8,
    "start_time": "2024-04-11T03:06:44.835Z"
   },
   {
    "duration": 9,
    "start_time": "2024-04-11T03:06:44.844Z"
   },
   {
    "duration": 8,
    "start_time": "2024-04-11T03:06:44.854Z"
   },
   {
    "duration": 419,
    "start_time": "2024-04-11T04:31:13.702Z"
   },
   {
    "duration": 18,
    "start_time": "2024-04-11T04:31:14.123Z"
   },
   {
    "duration": 18,
    "start_time": "2024-04-11T04:31:14.142Z"
   },
   {
    "duration": 10,
    "start_time": "2024-04-11T04:31:14.162Z"
   },
   {
    "duration": 61,
    "start_time": "2024-04-11T04:31:14.174Z"
   },
   {
    "duration": 3,
    "start_time": "2024-04-11T04:31:14.237Z"
   },
   {
    "duration": 8,
    "start_time": "2024-04-11T04:31:14.241Z"
   },
   {
    "duration": 3,
    "start_time": "2024-04-11T04:31:14.251Z"
   },
   {
    "duration": 11,
    "start_time": "2024-04-11T04:31:14.256Z"
   },
   {
    "duration": 3,
    "start_time": "2024-04-11T04:31:14.270Z"
   },
   {
    "duration": 47,
    "start_time": "2024-04-11T04:31:14.274Z"
   },
   {
    "duration": 7,
    "start_time": "2024-04-11T04:31:14.322Z"
   },
   {
    "duration": 5,
    "start_time": "2024-04-11T04:31:14.331Z"
   },
   {
    "duration": 19,
    "start_time": "2024-04-11T04:31:14.337Z"
   },
   {
    "duration": 19,
    "start_time": "2024-04-11T04:31:14.357Z"
   },
   {
    "duration": 28,
    "start_time": "2024-04-11T04:31:14.378Z"
   },
   {
    "duration": 3,
    "start_time": "2024-04-11T04:31:14.407Z"
   },
   {
    "duration": 26,
    "start_time": "2024-04-11T04:31:14.411Z"
   },
   {
    "duration": 7,
    "start_time": "2024-04-11T04:31:14.438Z"
   },
   {
    "duration": 12,
    "start_time": "2024-04-11T04:31:14.447Z"
   },
   {
    "duration": 10,
    "start_time": "2024-04-11T04:31:14.460Z"
   },
   {
    "duration": 22,
    "start_time": "2024-04-11T04:31:14.471Z"
   },
   {
    "duration": 2,
    "start_time": "2024-04-11T04:31:14.494Z"
   },
   {
    "duration": 15,
    "start_time": "2024-04-11T04:31:14.498Z"
   },
   {
    "duration": 3,
    "start_time": "2024-04-11T04:31:14.514Z"
   },
   {
    "duration": 3,
    "start_time": "2024-04-11T04:35:27.472Z"
   },
   {
    "duration": 57,
    "start_time": "2024-04-11T04:43:55.058Z"
   },
   {
    "duration": 15,
    "start_time": "2024-04-11T04:44:02.201Z"
   },
   {
    "duration": 15,
    "start_time": "2024-04-11T04:44:07.705Z"
   },
   {
    "duration": 24,
    "start_time": "2024-04-11T04:44:19.228Z"
   },
   {
    "duration": 11,
    "start_time": "2024-04-11T04:46:32.647Z"
   },
   {
    "duration": 13,
    "start_time": "2024-04-11T04:48:22.250Z"
   },
   {
    "duration": 9,
    "start_time": "2024-04-11T04:48:27.418Z"
   },
   {
    "duration": 14,
    "start_time": "2024-04-11T04:48:37.928Z"
   },
   {
    "duration": 10,
    "start_time": "2024-04-11T04:48:47.421Z"
   },
   {
    "duration": 10,
    "start_time": "2024-04-11T04:49:01.745Z"
   },
   {
    "duration": 8,
    "start_time": "2024-04-11T04:49:10.127Z"
   },
   {
    "duration": 9,
    "start_time": "2024-04-11T04:49:28.340Z"
   },
   {
    "duration": 12,
    "start_time": "2024-04-11T04:50:06.536Z"
   },
   {
    "duration": 12,
    "start_time": "2024-04-11T04:51:54.928Z"
   },
   {
    "duration": 14,
    "start_time": "2024-04-11T04:54:41.528Z"
   },
   {
    "duration": 12,
    "start_time": "2024-04-11T04:59:18.060Z"
   },
   {
    "duration": 9,
    "start_time": "2024-04-11T05:02:02.028Z"
   },
   {
    "duration": 13,
    "start_time": "2024-04-11T05:02:41.765Z"
   },
   {
    "duration": 15,
    "start_time": "2024-04-11T05:04:24.649Z"
   },
   {
    "duration": 14,
    "start_time": "2024-04-11T05:04:38.832Z"
   },
   {
    "duration": 455,
    "start_time": "2024-04-11T05:04:50.281Z"
   },
   {
    "duration": 25,
    "start_time": "2024-04-11T05:04:50.741Z"
   },
   {
    "duration": 17,
    "start_time": "2024-04-11T05:04:50.768Z"
   },
   {
    "duration": 17,
    "start_time": "2024-04-11T05:04:50.787Z"
   },
   {
    "duration": 29,
    "start_time": "2024-04-11T05:04:50.806Z"
   },
   {
    "duration": 3,
    "start_time": "2024-04-11T05:04:50.837Z"
   },
   {
    "duration": 17,
    "start_time": "2024-04-11T05:04:50.841Z"
   },
   {
    "duration": 39,
    "start_time": "2024-04-11T05:04:50.859Z"
   },
   {
    "duration": 33,
    "start_time": "2024-04-11T05:04:50.899Z"
   },
   {
    "duration": 18,
    "start_time": "2024-04-11T05:04:50.934Z"
   },
   {
    "duration": 49,
    "start_time": "2024-04-11T05:04:50.953Z"
   },
   {
    "duration": 8,
    "start_time": "2024-04-11T05:04:51.003Z"
   },
   {
    "duration": 23,
    "start_time": "2024-04-11T05:04:51.012Z"
   },
   {
    "duration": 13,
    "start_time": "2024-04-11T05:04:51.037Z"
   },
   {
    "duration": 18,
    "start_time": "2024-04-11T05:04:51.052Z"
   },
   {
    "duration": 15,
    "start_time": "2024-04-11T05:04:51.072Z"
   },
   {
    "duration": 7,
    "start_time": "2024-04-11T05:04:51.088Z"
   },
   {
    "duration": 56,
    "start_time": "2024-04-11T05:04:51.096Z"
   },
   {
    "duration": 12,
    "start_time": "2024-04-11T05:04:51.153Z"
   },
   {
    "duration": 8,
    "start_time": "2024-04-11T05:04:51.167Z"
   },
   {
    "duration": 24,
    "start_time": "2024-04-11T05:04:51.176Z"
   },
   {
    "duration": 108,
    "start_time": "2024-04-11T05:04:51.202Z"
   },
   {
    "duration": 0,
    "start_time": "2024-04-11T05:04:51.311Z"
   },
   {
    "duration": 0,
    "start_time": "2024-04-11T05:04:51.312Z"
   },
   {
    "duration": 0,
    "start_time": "2024-04-11T05:04:51.313Z"
   },
   {
    "duration": 13,
    "start_time": "2024-04-11T05:05:24.996Z"
   },
   {
    "duration": 12,
    "start_time": "2024-04-11T05:06:12.835Z"
   },
   {
    "duration": 9,
    "start_time": "2024-04-11T05:06:42.280Z"
   },
   {
    "duration": 8,
    "start_time": "2024-04-11T05:06:53.567Z"
   },
   {
    "duration": 7,
    "start_time": "2024-04-11T05:07:15.380Z"
   },
   {
    "duration": 9,
    "start_time": "2024-04-11T05:07:44.298Z"
   },
   {
    "duration": 7,
    "start_time": "2024-04-11T05:07:58.565Z"
   },
   {
    "duration": 9,
    "start_time": "2024-04-11T05:08:54.283Z"
   },
   {
    "duration": 8,
    "start_time": "2024-04-11T05:09:21.772Z"
   },
   {
    "duration": 8,
    "start_time": "2024-04-11T05:09:26.310Z"
   },
   {
    "duration": 7,
    "start_time": "2024-04-11T05:09:34.781Z"
   },
   {
    "duration": 7,
    "start_time": "2024-04-11T05:11:15.466Z"
   },
   {
    "duration": 8,
    "start_time": "2024-04-11T05:12:02.915Z"
   },
   {
    "duration": 7,
    "start_time": "2024-04-11T05:12:08.293Z"
   },
   {
    "duration": 13,
    "start_time": "2024-04-11T05:12:28.873Z"
   },
   {
    "duration": 8,
    "start_time": "2024-04-11T05:19:41.743Z"
   },
   {
    "duration": 10,
    "start_time": "2024-04-11T05:21:20.279Z"
   },
   {
    "duration": 9,
    "start_time": "2024-04-11T05:21:40.114Z"
   },
   {
    "duration": 3,
    "start_time": "2024-04-11T05:22:44.061Z"
   },
   {
    "duration": 7,
    "start_time": "2024-04-11T05:22:53.460Z"
   },
   {
    "duration": 3,
    "start_time": "2024-04-11T05:22:58.213Z"
   },
   {
    "duration": 3,
    "start_time": "2024-04-11T05:23:05.502Z"
   },
   {
    "duration": 4,
    "start_time": "2024-04-11T05:23:16.686Z"
   },
   {
    "duration": 8,
    "start_time": "2024-04-11T05:24:54.597Z"
   },
   {
    "duration": 3,
    "start_time": "2024-04-11T05:24:59.524Z"
   },
   {
    "duration": 4,
    "start_time": "2024-04-11T05:25:06.301Z"
   },
   {
    "duration": 3,
    "start_time": "2024-04-11T05:25:11.243Z"
   },
   {
    "duration": 3,
    "start_time": "2024-04-11T05:25:16.033Z"
   },
   {
    "duration": 3,
    "start_time": "2024-04-11T05:26:11.553Z"
   },
   {
    "duration": 12,
    "start_time": "2024-04-11T05:26:23.933Z"
   },
   {
    "duration": 12,
    "start_time": "2024-04-11T05:28:34.610Z"
   },
   {
    "duration": 17,
    "start_time": "2024-04-11T05:31:17.764Z"
   },
   {
    "duration": 14,
    "start_time": "2024-04-11T05:32:03.951Z"
   },
   {
    "duration": 13,
    "start_time": "2024-04-11T05:32:16.738Z"
   },
   {
    "duration": 13,
    "start_time": "2024-04-11T05:35:59.561Z"
   },
   {
    "duration": 13,
    "start_time": "2024-04-11T05:36:12.167Z"
   },
   {
    "duration": 12,
    "start_time": "2024-04-11T05:36:26.175Z"
   },
   {
    "duration": 46,
    "start_time": "2024-04-12T02:13:06.129Z"
   },
   {
    "duration": 697,
    "start_time": "2024-04-12T02:13:14.699Z"
   },
   {
    "duration": 20,
    "start_time": "2024-04-12T02:13:15.398Z"
   },
   {
    "duration": 52,
    "start_time": "2024-04-12T02:13:15.421Z"
   },
   {
    "duration": 50,
    "start_time": "2024-04-12T02:13:15.475Z"
   },
   {
    "duration": 77,
    "start_time": "2024-04-12T02:13:15.527Z"
   },
   {
    "duration": 47,
    "start_time": "2024-04-12T02:13:15.606Z"
   },
   {
    "duration": 35,
    "start_time": "2024-04-12T02:13:15.655Z"
   },
   {
    "duration": 28,
    "start_time": "2024-04-12T02:13:15.692Z"
   },
   {
    "duration": 26,
    "start_time": "2024-04-12T02:13:15.721Z"
   },
   {
    "duration": 34,
    "start_time": "2024-04-12T02:13:15.750Z"
   },
   {
    "duration": 70,
    "start_time": "2024-04-12T02:13:15.785Z"
   },
   {
    "duration": 9,
    "start_time": "2024-04-12T02:13:15.857Z"
   },
   {
    "duration": 43,
    "start_time": "2024-04-12T02:13:15.868Z"
   },
   {
    "duration": 49,
    "start_time": "2024-04-12T02:13:15.913Z"
   },
   {
    "duration": 81,
    "start_time": "2024-04-12T02:13:15.963Z"
   },
   {
    "duration": 24,
    "start_time": "2024-04-12T02:13:16.046Z"
   },
   {
    "duration": 13,
    "start_time": "2024-04-12T02:13:16.071Z"
   },
   {
    "duration": 28,
    "start_time": "2024-04-12T02:13:16.085Z"
   },
   {
    "duration": 32,
    "start_time": "2024-04-12T02:13:16.114Z"
   },
   {
    "duration": 58,
    "start_time": "2024-04-12T02:13:16.148Z"
   },
   {
    "duration": 40,
    "start_time": "2024-04-12T02:13:16.208Z"
   },
   {
    "duration": 84,
    "start_time": "2024-04-12T02:13:16.249Z"
   },
   {
    "duration": 0,
    "start_time": "2024-04-12T02:13:16.334Z"
   },
   {
    "duration": 0,
    "start_time": "2024-04-12T02:13:16.335Z"
   },
   {
    "duration": 0,
    "start_time": "2024-04-12T02:13:16.336Z"
   },
   {
    "duration": 107,
    "start_time": "2024-04-12T02:13:27.678Z"
   },
   {
    "duration": 14,
    "start_time": "2024-04-12T02:13:37.523Z"
   },
   {
    "duration": 22,
    "start_time": "2024-04-12T02:28:29.325Z"
   },
   {
    "duration": 26,
    "start_time": "2024-04-12T05:24:06.790Z"
   },
   {
    "duration": 22,
    "start_time": "2024-04-12T05:24:32.039Z"
   },
   {
    "duration": 17,
    "start_time": "2024-04-12T05:24:49.369Z"
   },
   {
    "duration": 17,
    "start_time": "2024-04-12T05:25:01.663Z"
   },
   {
    "duration": 29,
    "start_time": "2024-04-12T05:42:37.810Z"
   },
   {
    "duration": 501,
    "start_time": "2024-04-12T07:56:28.090Z"
   },
   {
    "duration": 22,
    "start_time": "2024-04-12T07:56:28.593Z"
   },
   {
    "duration": 16,
    "start_time": "2024-04-12T07:56:28.617Z"
   },
   {
    "duration": 10,
    "start_time": "2024-04-12T07:56:28.634Z"
   },
   {
    "duration": 60,
    "start_time": "2024-04-12T07:56:28.646Z"
   },
   {
    "duration": 3,
    "start_time": "2024-04-12T07:56:28.708Z"
   },
   {
    "duration": 19,
    "start_time": "2024-04-12T07:56:28.713Z"
   },
   {
    "duration": 4,
    "start_time": "2024-04-12T07:56:28.734Z"
   },
   {
    "duration": 7,
    "start_time": "2024-04-12T07:56:28.740Z"
   },
   {
    "duration": 6,
    "start_time": "2024-04-12T07:56:28.748Z"
   },
   {
    "duration": 62,
    "start_time": "2024-04-12T07:56:28.755Z"
   },
   {
    "duration": 11,
    "start_time": "2024-04-12T07:56:28.818Z"
   },
   {
    "duration": 5,
    "start_time": "2024-04-12T07:56:28.830Z"
   },
   {
    "duration": 13,
    "start_time": "2024-04-12T07:56:28.837Z"
   },
   {
    "duration": 36,
    "start_time": "2024-04-12T07:56:28.852Z"
   },
   {
    "duration": 18,
    "start_time": "2024-04-12T07:56:28.889Z"
   },
   {
    "duration": 5,
    "start_time": "2024-04-12T07:56:28.908Z"
   },
   {
    "duration": 23,
    "start_time": "2024-04-12T07:56:28.914Z"
   },
   {
    "duration": 12,
    "start_time": "2024-04-12T07:56:28.939Z"
   },
   {
    "duration": 15,
    "start_time": "2024-04-12T07:56:28.952Z"
   },
   {
    "duration": 14,
    "start_time": "2024-04-12T07:56:28.968Z"
   },
   {
    "duration": 18,
    "start_time": "2024-04-12T07:56:28.984Z"
   },
   {
    "duration": 22,
    "start_time": "2024-04-12T07:56:29.004Z"
   },
   {
    "duration": 18,
    "start_time": "2024-04-12T07:56:29.029Z"
   },
   {
    "duration": 46,
    "start_time": "2024-04-12T07:56:29.049Z"
   },
   {
    "duration": 56,
    "start_time": "2024-04-12T08:06:16.616Z"
   },
   {
    "duration": 656,
    "start_time": "2024-04-12T09:52:26.810Z"
   },
   {
    "duration": 32,
    "start_time": "2024-04-12T09:52:27.468Z"
   },
   {
    "duration": 24,
    "start_time": "2024-04-12T09:52:27.501Z"
   },
   {
    "duration": 19,
    "start_time": "2024-04-12T09:52:27.526Z"
   },
   {
    "duration": 76,
    "start_time": "2024-04-12T09:52:27.546Z"
   },
   {
    "duration": 3,
    "start_time": "2024-04-12T09:52:27.624Z"
   },
   {
    "duration": 31,
    "start_time": "2024-04-12T09:52:27.628Z"
   },
   {
    "duration": 22,
    "start_time": "2024-04-12T09:52:27.660Z"
   },
   {
    "duration": 26,
    "start_time": "2024-04-12T09:52:27.684Z"
   },
   {
    "duration": 10,
    "start_time": "2024-04-12T09:52:27.713Z"
   },
   {
    "duration": 55,
    "start_time": "2024-04-12T09:52:27.725Z"
   },
   {
    "duration": 10,
    "start_time": "2024-04-12T09:52:27.782Z"
   },
   {
    "duration": 21,
    "start_time": "2024-04-12T09:52:27.793Z"
   },
   {
    "duration": 17,
    "start_time": "2024-04-12T09:52:27.816Z"
   },
   {
    "duration": 50,
    "start_time": "2024-04-12T09:52:27.834Z"
   },
   {
    "duration": 17,
    "start_time": "2024-04-12T09:52:27.885Z"
   },
   {
    "duration": 5,
    "start_time": "2024-04-12T09:52:27.904Z"
   },
   {
    "duration": 20,
    "start_time": "2024-04-12T09:52:27.911Z"
   },
   {
    "duration": 26,
    "start_time": "2024-04-12T09:52:27.932Z"
   },
   {
    "duration": 14,
    "start_time": "2024-04-12T09:52:27.959Z"
   },
   {
    "duration": 31,
    "start_time": "2024-04-12T09:52:27.974Z"
   },
   {
    "duration": 26,
    "start_time": "2024-04-12T09:52:28.007Z"
   },
   {
    "duration": 21,
    "start_time": "2024-04-12T09:52:28.034Z"
   },
   {
    "duration": 21,
    "start_time": "2024-04-12T09:52:28.057Z"
   },
   {
    "duration": 22,
    "start_time": "2024-04-12T09:52:28.080Z"
   }
  ],
  "colab": {
   "name": "dpp_template_part2.ipynb",
   "provenance": []
  },
  "kernelspec": {
   "display_name": "Python 3 (ipykernel)",
   "language": "python",
   "name": "python3"
  },
  "language_info": {
   "codemirror_mode": {
    "name": "ipython",
    "version": 3
   },
   "file_extension": ".py",
   "mimetype": "text/x-python",
   "name": "python",
   "nbconvert_exporter": "python",
   "pygments_lexer": "ipython3",
   "version": "3.11.7"
  },
  "toc": {
   "base_numbering": 1,
   "nav_menu": {},
   "number_sections": true,
   "sideBar": true,
   "skip_h1_title": true,
   "title_cell": "Table of Contents",
   "title_sidebar": "Contents",
   "toc_cell": false,
   "toc_position": {},
   "toc_section_display": true,
   "toc_window_display": true
  }
 },
 "nbformat": 4,
 "nbformat_minor": 5
}
